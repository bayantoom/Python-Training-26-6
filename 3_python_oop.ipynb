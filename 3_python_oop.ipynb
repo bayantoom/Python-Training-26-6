{
 "cells": [
  {
   "cell_type": "markdown",
   "metadata": {},
   "source": [
    "<div style=\"display: flex; align-items: center;\">\n",
    "    <img src=\"../img/es_logo.png\" alt=\"title\" style=\"margin-right: 20px;\">\n",
    "    <h1>Introduction to Python</h1>\n",
    "</div>"
   ]
  },
  {
   "cell_type": "markdown",
   "metadata": {},
   "source": [
    "#### Exercise 1\n",
    "create a class called `Point` that takes two parameters `x` and `y` and stores them as attributes. Then create a method called `distance` that takes another `Point` object and calculates the distance between the two points.\n",
    "\n",
    "Create an appropriate `__str__` method for the class."
   ]
  },
  {
   "cell_type": "code",
   "execution_count": 39,
   "metadata": {},
   "outputs": [
    {
     "name": "stdout",
     "output_type": "stream",
     "text": [
      "The distance is 6.708203932499369\n",
      "(10,5)\n"
     ]
    }
   ],
   "source": [
    "class Point:\n",
    "    def __init__ (self, x, y):\n",
    "        self.x = x\n",
    "        self.y = y \n",
    "    \n",
    "    def distance(self, other):\n",
    "        return ((other.x - self.x)**2 + (other.y - self.y)**2)**0.5\n",
    "\n",
    "    def __str__(self):\n",
    "        return f\"({self.x},{self.y})\"\n",
    "        \n",
    "    \n",
    "\n",
    "point1 = Point(10,5)\n",
    "point2 = Point(4,2)\n",
    "\n",
    "distance = Point.distance(point1,point2)\n",
    "\n",
    "print(f\"The distance is {distance}\")\n",
    "print(point1)"
   ]
  },
  {
   "cell_type": "markdown",
   "metadata": {},
   "source": [
    "#### Exercise 2\n",
    "- create a class called `Line` that takes two parameters `point1` and `point2` and stores them as attributes. Then create a method called `length` that calculates the length of the line.\n",
    "- the `Line` class should also have a method called `slope` that calculates the slope of the line.\n",
    "- create a method called `point_on_line` that takes a `Point` object and returns `True` if the point is on the line and `False` otherwise.\n",
    "\n",
    "Create an appropriate `__str__` method for the class."
   ]
  },
  {
   "cell_type": "code",
   "execution_count": 19,
   "metadata": {},
   "outputs": [
    {
     "name": "stdout",
     "output_type": "stream",
     "text": [
      "Line ( Point(1,1), Point (1,2) )\n",
      "Length: 1.0\n",
      "Slope: None\n",
      "Point on line: False\n",
      "Point on line: True\n",
      "Point on line: False\n"
     ]
    }
   ],
   "source": [
    "class Line(Point):\n",
    "    def __init__ (self, point1, point2):\n",
    "        self.point1 = point1\n",
    "        self.point2 = point2 \n",
    "    \n",
    "    def length(self):\n",
    "        return self.point1.distance(self.point2)\n",
    "\n",
    "    def slope(self):\n",
    "        if (self.point2.x - self.point1.x) != 0:\n",
    "            return (self.point2.y - self.point1.y) / (self.point2.x - self.point1.x)\n",
    "        else:\n",
    "            return \n",
    "\n",
    "    def point_on_line(self, point):\n",
    "        return Point.distance(self.point1,point) + Point.distance(point,self.point2) == Point.distance(self.point1,self.point2)\n",
    "\n",
    "    def __str__(self):\n",
    "        return f\"Line ( Point({point1.x},{point1.y}), Point ({point2.x},{point2.y}) )\"\n",
    "         \n",
    " \n",
    "point1 = Point(1,1)\n",
    "point2 = Point(1,2)\n",
    "\n",
    "line = Line(point1,point2)\n",
    "point3 = Point(1,3)\n",
    "point4 = Point(1, 1.5)\n",
    "\n",
    "print(line)\n",
    "print(f\"Length: {line.length()}\")\n",
    "print(f\"Slope: {line.slope()}\")\n",
    "print(f\"Point on line: {line.point_on_line(point3)}\")\n",
    "print(f\"Point on line: {line.point_on_line(point4)}\")\n",
    "print(f\"Point on line: {line.point_on_line(Point(2,2))}\")\n",
    "\n",
    "\n",
    "\n",
    "\n"
   ]
  },
  {
   "cell_type": "markdown",
   "metadata": {},
   "source": [
    "#### Exercise 3\n",
    "- create a class called `Shape` that takes a list of `Lines` and stores them as an attribute. Then create a method called `perimeter` that calculates the perimeter of the shape.\n",
    "- the `Shape` class should have a method called `draw` that draws the shape using `matplotlib`. use the function `draw_lines` below to draw the lines.\n",
    "- create a method called `point_on_perimeter` that takes a `Point` object and returns `True` if the point is on the perimeter of the shape and `False` otherwise.\n",
    "\n",
    "Create an appropriate `__str__` method for the class."
   ]
  },
  {
   "cell_type": "code",
   "execution_count": 49,
   "metadata": {},
   "outputs": [
    {
     "name": "stdout",
     "output_type": "stream",
     "text": [
      "Perimeter is: 3.414213562373095\n"
     ]
    },
    {
     "data": {
      "image/png": "[encoded data removed]",
      "text/plain": [
       "<Figure size 640x480 with 1 Axes>"
      ]
     },
     "metadata": {},
     "output_type": "display_data"
    },
    {
     "name": "stdout",
     "output_type": "stream",
     "text": [
      "Is the point (3,3) on perimeter? False\n",
      "Is the point (1,1.5) on perimeter? True\n",
      "The shape consists of multiple lines\n"
     ]
    }
   ],
   "source": [
    "class Shape(Line):\n",
    "    def __init__ (self, lines):\n",
    "        self.lines = lines\n",
    "\n",
    "    def perimeter(self):\n",
    "        perimeter = 0\n",
    "        for line in self.lines:\n",
    "            #per += Point.distance(line.point1,line.point2)\n",
    "            perimeter += line.length()\n",
    "        return perimeter\n",
    "    \n",
    "    def draw(self, lines, color):\n",
    "        import matplotlib.pyplot as plt\n",
    "        for line in lines:\n",
    "            plt.plot([line.point1.x, line.point2.x], [line.point1.y, line.point2.y], color)\n",
    "        \n",
    "        plt.axis('equal')\n",
    "        plt.show()\n",
    "\n",
    "    def point_on_perimeter(self, point):\n",
    "        for line in self.lines:\n",
    "            if line.point_on_line(point):\n",
    "                return True\n",
    "        return False\n",
    "    \n",
    "    def __str__(self):\n",
    "        return f\"The shape consists of multiple lines\"\n",
    "\n",
    "\n",
    "lines = [\n",
    "    Line(Point(1, 1), Point(1, 2)),\n",
    "    Line(Point(1, 2), Point(2, 2)),\n",
    "    Line(Point(2, 2), Point(1, 1))\n",
    "]\n",
    "\n",
    "shape = Shape(lines)\n",
    "\n",
    "print(f\"Perimeter is: {shape.perimeter()}\")\n",
    "\n",
    "color = \"red\"\n",
    "shape.draw(lines, color)\n",
    "\n",
    "print(f\"Is the point {Point(3,3)} on perimeter? {shape.point_on_perimeter(Point(3,3))}\")\n",
    "print(f\"Is the point {Point(1,1.5)} on perimeter? {shape.point_on_perimeter(Point(1,1.5))}\")\n",
    "\n",
    "print(shape)\n"
   ]
  },
  {
   "cell_type": "markdown",
   "metadata": {},
   "source": [
    "create the following classes:\n",
    "- `Rectangle` that inherits from `Shape` and takes three parameters `width` and `height` and a Point object `center`. The lines of the rectangle should be calculated using the `width`, `height` and `center` parameters. Then create a method called `area` that calculates the area of the rectangle.\n",
    "- `Square` that inherits from `Rectangle` and takes two parameter `side` and `center` and stores it as an attribute.\n",
    "- `Circle` that inherits from `Shape` and takes 3 parameters `radius` and `center` and an optional `num_sides` with a default value of 20. The lines of the circle should be calculated using the `radius`, `center` and `num_sides` parameters. Then create a method called `area` that calculates the area of the circle.\n",
    "- for the `Circle` class, override the `perimeter` and `point_on_perimeter` methods to work with circles (it should find if point on perimeter in the logical sense rather than the visual representatiobn that uses lines).\n",
    "\n",
    "Create an appropriate `__str__` method for each one of the classes."
   ]
  },
  {
   "cell_type": "code",
   "execution_count": 70,
   "metadata": {},
   "outputs": [
    {
     "name": "stdout",
     "output_type": "stream",
     "text": [
      "Rectangle Perimeter: 12.0\n",
      "Rectangle Area: 8\n",
      "Square Perimeter: 12.0\n",
      "Square Area: 9\n"
     ]
    }
   ],
   "source": [
    "# P.S: please note that I used chatGPT to check how to create the shapes lines \n",
    "\n",
    "class Rectangle(Shape):\n",
    "    def __init__(self, width, height, center):\n",
    "        self.width = width\n",
    "        self.height = height \n",
    "        self.center = center \n",
    "        # self.lines_cal() \n",
    "    \n",
    "    def __str__(self):\n",
    "        return f\"This is a Rectangle!\"\n",
    "\n",
    "        \n",
    "    def lines_cal(self):\n",
    "        h_width = self.width / 2\n",
    "        h_height = self.height / 2\n",
    "        x = self.center.x\n",
    "        y = self.center.y\n",
    "\n",
    "        top_left = Point(x - h_width, y + h_height)\n",
    "        top_right = Point(x + h_width, y + h_height)\n",
    "        bottom_left = Point(x - h_width, y - h_height)\n",
    "        bottom_right = Point(x + h_width, y - h_height)\n",
    "\n",
    "        self.lines = [\n",
    "            Line(top_left, top_right),\n",
    "            Line(top_right, bottom_right),\n",
    "            Line(bottom_right, bottom_left),\n",
    "            Line(bottom_left, top_left)\n",
    "        ]\n",
    "\n",
    "        return self.perimeter()\n",
    "\n",
    "    def area(self):\n",
    "        return self.width * self.height\n",
    "\n",
    "rectangle = Rectangle(4, 2, Point(0,0))\n",
    "print(f\"Rectangle Perimeter: {rectangle.lines_cal()}\")\n",
    "print(f\"Rectangle Area: {rectangle.area()}\")\n",
    "\n",
    "\n",
    "class Square(Rectangle):\n",
    "    def __init__(self, side, center):\n",
    "        self.side = side\n",
    "        self.center = center\n",
    "        self.width = side\n",
    "        self.height = side\n",
    "        # self.calculate_lines()\n",
    "    \n",
    "    def __str__(self):\n",
    "        return f\"This is a Square!\"\n",
    "\n",
    "square = Square(3, Point(0,0))\n",
    "print(f\"Square Perimeter: {square.lines_cal()}\")\n",
    "print(f\"Square Area: {square.area()}\")\n",
    "\n",
    "\"\"\" class Circle(Shape):\n",
    "    def __init__(self, radius, center, num_sides=20):\n",
    "        self.radius = radius \n",
    "        self.center = center \n",
    "        self.num_sides = num_sides \n",
    "\n",
    "    import math\n",
    "\n",
    "    def lines_cal(self):\n",
    "        pass \n",
    "\n",
    "    def area(self):\n",
    "        return math.pi * self.radius**2\n",
    "\"\"\" \n",
    "\n",
    "\n",
    "        "
   ]
  },
  {
   "cell_type": "markdown",
   "metadata": {},
   "source": [
    "#### Exercise 4\n",
    "Create a program that simulates a simple employee management system. The program should allow the user to perform the following tasks:\n",
    "- add a new employee either a Manager or a Developer to the company.\n",
    "- display the list of employees in the company, along with their details.\n",
    "- calculate the total salary of all employees in the company.\n",
    "\n",
    "Create the following classes:\n",
    "- `Employee` class that takes three parameters `name`, `age` and `salary` and stores them as attributes. \n",
    "- `Manager` class that inherits from `Employee` and takes an additional parameter `department` and stores it as an attribute.\n",
    "- `Developer` class that inherits from `Employee` and takes an additional parameter `programming_language` and stores it as an attribute.\n",
    "\n",
    "Create a class called `Company` with the following methods:\n",
    "- `add_employee` that takes an `Employee` object and adds it to the list of employees.\n",
    "- `display_employees` that displays the list of employees in the company.\n",
    "- `calculate_total_salary` that calculates the total salary of all employees in the company.\n",
    "\n",
    "Use user input to allow the user to perform the above tasks.\n",
    "\n",
    "##### Example Output\n",
    "```console\n",
    "Welcome to Estarta Solutions Employee Management System\n",
    "\n",
    "What task would you like to perform?\n",
    "1. Add a new employee\n",
    "2. Display employees\n",
    "3. Calculate total salary\n",
    "4. Exit\n",
    "\n",
    "Enter your choice: 1\n",
    "\n",
    "Enter employee type (Manager/Developer): Manager\n",
    "Enter employee name: Ali\n",
    "Enter employee age: 35\n",
    "Enter employee salary: 5000\n",
    "Enter employee department: IT\n",
    "\n",
    "Employee added successfully!\n",
    "\n",
    "What task would you like to perform?\n",
    "1. Add a new employee\n",
    "2. Display employees\n",
    "3. Calculate total salary\n",
    "4. Exit\n",
    "\n",
    "Enter your choice: 1\n",
    "\n",
    "Enter employee type (Manager/Developer): Developer\n",
    "Enter employee name: Sara\n",
    "Enter employee age: 28\n",
    "Enter employee salary: 4000\n",
    "Enter employee programming language: Python\n",
    "\n",
    "Employee added successfully!\n",
    "\n",
    "What task would you like to perform?\n",
    "1. Add a new employee\n",
    "2. Display employees\n",
    "3. Calculate total salary\n",
    "4. Exit\n",
    "\n",
    "Enter your choice: 2\n",
    "\n",
    "Ali, a 35 year old Manager in the IT department with a salary of 5000\n",
    "Sara, a 28 year old Developer in Python with a salary of 4000\n",
    "\n",
    "What task would you like to perform?\n",
    "1. Add a new employee\n",
    "2. Display employees\n",
    "3. Calculate total salary\n",
    "4. Exit\n",
    "\n",
    "Enter your choice: 3\n",
    "\n",
    "Total salary of all employees is 9000\n",
    "\n",
    "What task would you like to perform?\n",
    "1. Add a new employee\n",
    "2. Display employees\n",
    "3. Calculate total salary\n",
    "4. Exit\n",
    "\n",
    "Enter your choice: 4\n",
    "\n",
    "Thank you for using Estarta Solutions Employee Management System.\n",
    "Goodbye!\n",
    "```"
   ]
  },
  {
   "cell_type": "markdown",
   "metadata": {},
   "source": []
  }
 ],
 "metadata": {
  "kernelspec": {
   "display_name": "Python 3",
   "language": "python",
   "name": "python3"
  },
  "language_info": {
   "codemirror_mode": {
    "name": "ipython",
    "version": 3
   },
   "file_extension": ".py",
   "mimetype": "text/x-python",
   "name": "python",
   "nbconvert_exporter": "python",
   "pygments_lexer": "ipython3",
   "version": "3.12.3"
  }
 },
 "nbformat": 4,
 "nbformat_minor": 2
}
